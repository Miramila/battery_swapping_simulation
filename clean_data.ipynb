{
 "cells": [
  {
   "cell_type": "code",
   "execution_count": 1,
   "metadata": {},
   "outputs": [],
   "source": [
    "# coding=utf-8\n",
    "import pandas as pd\n",
    "from csv import reader\n",
    "import urllib.request\n",
    "import os.path\n",
    "import zipfile"
   ]
  },
  {
   "cell_type": "code",
   "execution_count": 2,
   "metadata": {},
   "outputs": [
    {
     "name": "stderr",
     "output_type": "stream",
     "text": [
      "C:\\Users\\Su_hy\\AppData\\Local\\Programs\\Python\\Python310\\lib\\site-packages\\IPython\\core\\interactiveshell.py:3251: FutureWarning: In a future version of pandas all arguments of read_csv except for the argument 'filepath_or_buffer' will be keyword-only.\n",
      "  exec(code_obj, self.user_global_ns, self.user_ns)\n"
     ]
    }
   ],
   "source": [
    "local_filename = \"xianshi_1001_1015.zip\\part-00000-3bbf0a7c-4528-4398-812b-03fe2dde0474-c000_1.csv\"\n",
    "\n",
    "xian=pd.read_csv(local_filename,'r',header=None)\n",
    "length=len(xian.index)\n",
    "# nodes\n",
    "# x=xian.at[0,2][-30:-1]\n",
    "# a,b,c=x.split(' ',2)\n",
    "# int(c)"
   ]
  },
  {
   "cell_type": "code",
   "execution_count": 3,
   "metadata": {},
   "outputs": [],
   "source": [
    "# nodes_gps_1=pd.DataFrame(columns=['no','lo','la','time'])\n",
    "nodes1=pd.DataFrame(columns=['no','s_lo','s_la','s_time','e_lo','e_la','e_time'])"
   ]
  },
  {
   "cell_type": "code",
   "execution_count": null,
   "metadata": {},
   "outputs": [],
   "source": [
    "outputpath='nodes\\\\nodes1.csv'\n",
    "nodes1.to_csv(outputpath,sep=',',index=False,header=False)"
   ]
  },
  {
   "cell_type": "code",
   "execution_count": null,
   "metadata": {},
   "outputs": [],
   "source": [
    "for k in range(0,1):\n",
    "    local_filename = \"xianshi_1001_1015.zip\\part-00000-3bbf0a7c-4528-4398-812b-03fe2dde0474-c000_{}.csv\".format(k)\n",
    "    xian=pd.read_csv(local_filename,'r',header=None)\n",
    "    length=len(xian.index)\n",
    "    for i in range(0,length):\n",
    "        x=xian.at[i,0]\n",
    "        row=x.split(\"\\\"\")[1].split('[')[1].split(']')[0].split(',')\n",
    "        x1=row[1]\n",
    "        x2=row[-1]\n",
    "        s_lo=x1.split(' ',3)[1]\n",
    "        s_la=x1.split(' ',3)[2]\n",
    "        s_time=x1.split(' ',3)[3]\n",
    "        e_lo=x2.split(' ',3)[1]\n",
    "        e_la=x2.split(' ',3)[2]\n",
    "        e_time=x2.split(' ',3)[3]\n",
    "        new_row={'no':i,'s_lo':float(s_lo),'s_la':float(s_la),'s_time':int(s_time),'e_lo':float(s_lo),'e_la':float(s_la),'e_time':int(s_time)}\n",
    "        nodes1=nodes1.append(new_row,ignore_index=True)"
   ]
  },
  {
   "cell_type": "code",
   "execution_count": 6,
   "metadata": {},
   "outputs": [
    {
     "name": "stderr",
     "output_type": "stream",
     "text": [
      "C:\\Users\\Su_hy\\AppData\\Local\\Programs\\Python\\Python310\\lib\\site-packages\\IPython\\core\\interactiveshell.py:3251: FutureWarning: In a future version of pandas all arguments of read_csv except for the argument 'filepath_or_buffer' will be keyword-only.\n",
      "  exec(code_obj, self.user_global_ns, self.user_ns)\n"
     ]
    }
   ],
   "source": [
    "for k in range(0,1):\n",
    "    local_filename = \"xianshi_1001_1015.zip\\part-00000-3bbf0a7c-4528-4398-812b-03fe2dde0474-c000_{}.csv\".format(k)\n",
    "    xian=pd.read_csv(local_filename,'r',header=None)\n",
    "    length=len(xian.index)\n",
    "    for i in range(0,length):\n",
    "        x=xian.at[i,0]\n",
    "        row=x.split(\"\\\"\")[1].split('[')[1].split(']')[0].split(',')\n",
    "        for x in row[1:]:\n",
    "          lo=x.split(' ',3)[1]\n",
    "          la=x.split(' ',3)[2]\n",
    "          time=x.split(' ',3)[3]\n",
    "          new_row={'no':i,'lo':float(lo),'la':float(la),'time':int(time)}\n",
    "          nodes_gps_1=nodes_gps_1.append(new_row,ignore_index=True)\n",
    "    # for i in range(0,length):\n",
    "    #     x=xian.at[i,0]\n",
    "    #     row=x.split(\"\\\"\")[1].split('[')[1].split(']')[0].split(',')\n",
    "    #     x1=row[0]\n",
    "    #     start_pointlo,start_pointla,start_time=x1.split(' ',2)\n",
    "    #     x2=row[-1]\n",
    "    #     end_pointlo=x2.split(' ',3)[1]\n",
    "    #     end_pointla=x2.split(' ',3)[2]\n",
    "    #     end_time=x2.split(' ',3)[3]\n",
    "    #     start_point=[float(start_pointlo),float(start_pointla)]\n",
    "    #     end_point=[float(end_pointlo),float(end_pointla)]\n",
    "    #     new_row={'start_point':start_point,'end_point':end_point,'travel_time':(float(end_time)-float(start_time))}\n",
    "    #     nodes=nodes.append(new_row,ignore_index=True)\n",
    "\n",
    "\n"
   ]
  },
  {
   "cell_type": "code",
   "execution_count": null,
   "metadata": {},
   "outputs": [],
   "source": [
    "nodes_test=pd.DataFrame(columns=['lo','la','time'])\n",
    "local_filename = \"xianshi_1001_1015.zip\\part-00000-3bbf0a7c-4528-4398-812b-03fe2dde0474-c000_0.csv\"\n",
    "xian=pd.read_csv(local_filename,'r',header=None)\n",
    "length=len(xian.index)\n",
    "for i in range(0,length):\n",
    "    x=xian.at[i,0]\n",
    "    row=x.split(\"\\\"\")[1].split('[')[1].split(']')[0].split(',')\n",
    "    for x in row[1:]:\n",
    "      lo=x.split(' ',3)[1]\n",
    "      la=x.split(' ',3)[2]\n",
    "      time=x.split(' ',3)[3]\n",
    "      new_row={'lo':lo,'la':la,'time':time}\n",
    "      nodes_test=nodes_test.append(new_row,ignore_index=True)\n",
    "    # x1=row[0]\n",
    "    # start_pointlo,start_pointla,start_time=x1.split(' ',2)\n",
    "    # x2=row[-1]\n",
    "    # end_pointlo=x2.split(' ',3)[1]\n",
    "    # end_pointla=x2.split(' ',3)[2]\n",
    "    # end_time=x2.split(' ',3)[3]\n",
    "    # start_point=[float(start_pointlo),float(start_pointla)]\n",
    "    # end_point=[float(end_pointlo),float(end_pointla)]\n",
    "    # new_row={'start_point':start_point,'end_point':end_point,'travel_time':(float(end_time)-float(start_time))}\n",
    "    # nodes=nodes.append(new_row,ignore_index=True)\n"
   ]
  },
  {
   "cell_type": "code",
   "execution_count": 25,
   "metadata": {},
   "outputs": [],
   "source": [
    "nodes_gps\n",
    "outputpath='nodes\\\\gps_nodes0.csv'\n",
    "nodes_gps.to_csv(outputpath,sep=',',index=False,header=False)"
   ]
  },
  {
   "cell_type": "code",
   "execution_count": 81,
   "metadata": {},
   "outputs": [],
   "source": [
    "# nodes=pd.DataFrame(columns=['start_point','end_point','travel_time'])\n",
    "backup_nodes=nodes\n",
    "backup_nodes\n",
    "\n",
    "outputpath='nodes\\\\nodes0.csv'\n",
    "backup_nodes.to_csv(outputpath,sep=',',index=False,header=False)"
   ]
  }
 ],
 "metadata": {
  "interpreter": {
   "hash": "467e8b23c4c99587ccdf094a0e7a8dc4b12a546d50cf32ab57bf9480c49938fe"
  },
  "kernelspec": {
   "display_name": "Python 3.10.2 64-bit",
   "language": "python",
   "name": "python3"
  },
  "language_info": {
   "codemirror_mode": {
    "name": "ipython",
    "version": 3
   },
   "file_extension": ".py",
   "mimetype": "text/x-python",
   "name": "python",
   "nbconvert_exporter": "python",
   "pygments_lexer": "ipython3",
   "version": "3.10.2"
  },
  "orig_nbformat": 4
 },
 "nbformat": 4,
 "nbformat_minor": 2
}
