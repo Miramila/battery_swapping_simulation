{
 "cells": [
  {
   "cell_type": "code",
   "execution_count": null,
   "metadata": {},
   "outputs": [],
   "source": [
    "import networkx as nx\n",
    "import osmnx as ox\n",
    "import pandas as pd\n",
    "\n",
    "%matplotlib inline\n",
    "ox.__version__"
   ]
  },
  {
   "cell_type": "code",
   "execution_count": null,
   "metadata": {},
   "outputs": [],
   "source": [
    "G = ox.graph_from_place(\"Porto, Portugal\", network_type=\"drive\")\n",
    "fig, ax = ox.plot_graph(G)"
   ]
  },
  {
   "cell_type": "code",
   "execution_count": null,
   "metadata": {},
   "outputs": [],
   "source": [
    "gdf_nodes, gdf_edges = ox.graph_to_gdfs(G)\n",
    "gdf_nodes.head()"
   ]
  },
  {
   "cell_type": "code",
   "execution_count": null,
   "metadata": {},
   "outputs": [],
   "source": [
    "gdf_nodes[gdf_nodes['street_count']>=3]"
   ]
  },
  {
   "cell_type": "code",
   "execution_count": null,
   "metadata": {},
   "outputs": [],
   "source": [
    "G_proj = ox.project_graph(G)\n",
    "ints = ox.consolidate_intersections(G_proj, rebuild_graph=False, tolerance=63, dead_ends=False)\n",
    "len(ints)"
   ]
  },
  {
   "cell_type": "code",
   "execution_count": null,
   "metadata": {},
   "outputs": [],
   "source": [
    "G2 = ox.consolidate_intersections(G_proj, rebuild_graph=True, tolerance=63, dead_ends=False)\n",
    "G2\n",
    "# fig, ax = ox.plot_graph(G2, node_color=\"r\")"
   ]
  },
  {
   "cell_type": "code",
   "execution_count": null,
   "metadata": {},
   "outputs": [],
   "source": [
    "gdf_nodes1, gdf_edges2 = ox.graph_to_gdfs(G2)\n",
    "gdf_nodes1"
   ]
  },
  {
   "cell_type": "code",
   "execution_count": null,
   "metadata": {},
   "outputs": [],
   "source": [
    "gdf_nodes1.iloc[:,0]"
   ]
  },
  {
   "cell_type": "code",
   "execution_count": null,
   "metadata": {},
   "outputs": [],
   "source": [
    "gdf_nodes.loc[2284958176,:]"
   ]
  },
  {
   "cell_type": "markdown",
   "metadata": {},
   "source": [
    "gain proper nodes of stations"
   ]
  },
  {
   "cell_type": "code",
   "execution_count": null,
   "metadata": {},
   "outputs": [],
   "source": [
    "select=gdf_nodes[abs(gdf_nodes['x']-108.816613)<0.002]\n",
    "select=select[abs(select['y']-34.291022)<0.002]\n",
    "select"
   ]
  },
  {
   "cell_type": "markdown",
   "metadata": {},
   "source": [
    "gain proper nodes of gps data (func)"
   ]
  },
  {
   "cell_type": "code",
   "execution_count": null,
   "metadata": {},
   "outputs": [],
   "source": [
    "# df_sort = df.iloc[(df['num']-input).abs().argsort()[:2]]\n",
    "c_lo=116.46123\n",
    "c_la=39.93249\n",
    "nodes=gdf_nodes\n",
    "nodes=nodes.reset_index()\n",
    "os_node=nodes.iloc[((nodes['y']-c_la).abs()+(nodes['x']-c_lo).abs()).argsort()].iloc[0,0]\n",
    "os_node"
   ]
  },
  {
   "cell_type": "code",
   "execution_count": null,
   "metadata": {},
   "outputs": [],
   "source": [
    "station=pd.read_csv(\"C:/Users/Su_hy/Documents/study/Research/battery-swapping/data/station_Beijing.csv\",header=None)\n",
    "nodes=gdf_nodes\n",
    "nodes=nodes.reset_index()\n",
    "s_no=[]\n",
    "for i in range(0,20):\n",
    "    lo=station.iloc[i,1]\n",
    "    la=station.iloc[i,2]\n",
    "    os_node=nodes.iloc[((nodes['y']-la).abs()+(nodes['x']-lo).abs()).argsort()].iloc[0,0]\n",
    "    s_no.append(os_node)\n",
    "display(s_no)"
   ]
  },
  {
   "cell_type": "code",
   "execution_count": null,
   "metadata": {},
   "outputs": [],
   "source": []
  },
  {
   "cell_type": "code",
   "execution_count": null,
   "metadata": {},
   "outputs": [],
   "source": [
    "Gp = ox.project_graph(G)"
   ]
  },
  {
   "cell_type": "code",
   "execution_count": null,
   "metadata": {},
   "outputs": [],
   "source": [
    "points = ox.utils_geo.sample_points(ox.get_undirected(Gp), n=100)\n",
    "X = points.x.values\n",
    "Y = points.y.values\n",
    "X0 = X.mean()\n",
    "Y0 = Y.mean()\n",
    "nodes, dists = ox.nearest_nodes(Gp, X, Y, return_dist=True)\n",
    "node = ox.nearest_nodes(Gp, X0, Y0)"
   ]
  },
  {
   "cell_type": "code",
   "execution_count": null,
   "metadata": {},
   "outputs": [],
   "source": [
    "hhh=gdf_nodes.sort_values(by='y',ascending=True)\n",
    "hhh.head(20)"
   ]
  },
  {
   "cell_type": "code",
   "execution_count": null,
   "metadata": {},
   "outputs": [],
   "source": [
    "\n",
    "gdf_nodes.loc[1628131247,:]"
   ]
  },
  {
   "cell_type": "code",
   "execution_count": null,
   "metadata": {},
   "outputs": [],
   "source": [
    "orig=2743437769\n",
    "dest=938647445\n",
    "route = ox.shortest_path(G, orig, dest, weight=\"length\")\n",
    "# fig, ax = ox.plot_graph_route(G, route, route_color=\"y\", route_linewidth=6, node_size=0)\n",
    "route"
   ]
  },
  {
   "cell_type": "code",
   "execution_count": null,
   "metadata": {},
   "outputs": [],
   "source": [
    "# impute speed on all edges missing data\n",
    "G = ox.add_edge_speeds(G)\n",
    "\n",
    "# calculate travel time (seconds) for all edges\n",
    "G = ox.add_edge_travel_times(G)"
   ]
  },
  {
   "cell_type": "code",
   "execution_count": null,
   "metadata": {},
   "outputs": [],
   "source": [
    "# see mean speed/time values by road type\n",
    "edges = ox.graph_to_gdfs(G, nodes=False)\n",
    "edges[\"highway\"] = edges[\"highway\"].astype(str)\n",
    "edges.groupby(\"highway\")[[\"length\", \"speed_kph\", \"travel_time\"]].mean().round(1)"
   ]
  },
  {
   "cell_type": "code",
   "execution_count": null,
   "metadata": {},
   "outputs": [],
   "source": [
    "orig=2743437769\n",
    "dest=938647445\n",
    "route1 = ox.shortest_path(G, orig, dest, weight=\"length\")\n",
    "route2 = ox.shortest_path(G, orig, dest, weight=\"travel_time\")"
   ]
  },
  {
   "cell_type": "code",
   "execution_count": null,
   "metadata": {},
   "outputs": [],
   "source": [
    "fig, ax = ox.plot_graph_routes(\n",
    "    G, routes=[route1, route2], route_colors=[\"r\", \"y\"], route_linewidth=6, node_size=0\n",
    ")"
   ]
  },
  {
   "cell_type": "code",
   "execution_count": null,
   "metadata": {},
   "outputs": [],
   "source": [
    "route1_length = int(sum(ox.utils_graph.get_route_edge_attributes(G, route1, \"length\")))\n",
    "route2_length = int(sum(ox.utils_graph.get_route_edge_attributes(G, route2, \"length\")))\n",
    "route1_time = int(sum(ox.utils_graph.get_route_edge_attributes(G, route1, \"travel_time\")))\n",
    "route2_time = int(sum(ox.utils_graph.get_route_edge_attributes(G, route2, \"travel_time\")))\n",
    "print(\"Route 1 is\", route1_length, \"meters and takes\", route1_time, \"seconds.\")\n",
    "print(\"Route 2 is\", route2_length, \"meters and takes\", route2_time, \"seconds.\")"
   ]
  }
 ],
 "metadata": {
  "interpreter": {
   "hash": "467e8b23c4c99587ccdf094a0e7a8dc4b12a546d50cf32ab57bf9480c49938fe"
  },
  "kernelspec": {
   "display_name": "Python 3.10.2 64-bit",
   "language": "python",
   "name": "python3"
  },
  "language_info": {
   "codemirror_mode": {
    "name": "ipython",
    "version": 3
   },
   "file_extension": ".py",
   "mimetype": "text/x-python",
   "name": "python",
   "nbconvert_exporter": "python",
   "pygments_lexer": "ipython3",
   "version": "3.10.2"
  },
  "orig_nbformat": 4
 },
 "nbformat": 4,
 "nbformat_minor": 2
}
